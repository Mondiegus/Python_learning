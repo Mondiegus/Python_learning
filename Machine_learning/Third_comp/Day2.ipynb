{
 "cells": [
  {
   "cell_type": "code",
   "execution_count": 37,
   "metadata": {},
   "outputs": [],
   "source": [
    "from flask import Flask\n",
    "import eventlet.wsgi\n",
    "import eventlet\n",
    "import socketio\n",
    "import base64\n",
    "import numpy as np\n",
    "from io import BytesIO\n",
    "from PIL import Image\n",
    "from tensorflow.python.keras.models import load_model"
   ]
  },
  {
   "cell_type": "code",
   "execution_count": 38,
   "metadata": {},
   "outputs": [
    {
     "data": {
      "text/plain": [
       "<bound method Network.summary of <tensorflow.python.keras.engine.sequential.Sequential object at 0x0000000002AA4400>>"
      ]
     },
     "execution_count": 38,
     "metadata": {},
     "output_type": "execute_result"
    }
   ],
   "source": [
    "model = load_model('h:\\Pliki ściągnięte\\model.h5')\n",
    "model.summary"
   ]
  },
  {
   "cell_type": "code",
   "execution_count": 2,
   "metadata": {},
   "outputs": [],
   "source": [
    "sio = socketio.Server()\n",
    "app = Flask(__name__)\n",
    "\n",
    "def send_control(steering_angle, throttle):\n",
    "    sio.emit(\"steer\", data={'steering_angle': str(steering_angle),\n",
    "                            'throttle': str(throttle) }, skip_sid=True)"
   ]
  },
  {
   "cell_type": "code",
   "execution_count": 13,
   "metadata": {},
   "outputs": [
    {
     "name": "stderr",
     "output_type": "stream",
     "text": [
      "(8276) wsgi starting up on http://0.0.0.0:4567\n",
      "(8276) accepted ('127.0.0.1', 55386)\n"
     ]
    },
    {
     "name": "stdout",
     "output_type": "stream",
     "text": [
      "dict_keys(['steering_angle', 'throttle', 'speed', 'image'])\n",
      "dict_keys(['steering_angle', 'throttle', 'speed', 'image'])\n",
      "dict_keys(['steering_angle', 'throttle', 'speed', 'image'])\n",
      "dict_keys(['steering_angle', 'throttle', 'speed', 'image'])\n",
      "dict_keys(['steering_angle', 'throttle', 'speed', 'image'])\n",
      "dict_keys(['steering_angle', 'throttle', 'speed', 'image'])\n",
      "dict_keys(['steering_angle', 'throttle', 'speed', 'image'])\n",
      "dict_keys(['steering_angle', 'throttle', 'speed', 'image'])\n",
      "dict_keys(['steering_angle', 'throttle', 'speed', 'image'])\n",
      "dict_keys(['steering_angle', 'throttle', 'speed', 'image'])\n",
      "dict_keys(['steering_angle', 'throttle', 'speed', 'image'])\n",
      "dict_keys(['steering_angle', 'throttle', 'speed', 'image'])\n",
      "dict_keys(['steering_angle', 'throttle', 'speed', 'image'])\n",
      "dict_keys(['steering_angle', 'throttle', 'speed', 'image'])\n",
      "dict_keys(['steering_angle', 'throttle', 'speed', 'image'])\n",
      "dict_keys(['steering_angle', 'throttle', 'speed', 'image'])\n",
      "dict_keys(['steering_angle', 'throttle', 'speed', 'image'])\n",
      "dict_keys(['steering_angle', 'throttle', 'speed', 'image'])\n",
      "dict_keys(['steering_angle', 'throttle', 'speed', 'image'])\n",
      "dict_keys(['steering_angle', 'throttle', 'speed', 'image'])\n",
      "dict_keys(['steering_angle', 'throttle', 'speed', 'image'])\n",
      "dict_keys(['steering_angle', 'throttle', 'speed', 'image'])\n",
      "dict_keys(['steering_angle', 'throttle', 'speed', 'image'])\n",
      "dict_keys(['steering_angle', 'throttle', 'speed', 'image'])\n",
      "dict_keys(['steering_angle', 'throttle', 'speed', 'image'])\n",
      "dict_keys(['steering_angle', 'throttle', 'speed', 'image'])\n",
      "dict_keys(['steering_angle', 'throttle', 'speed', 'image'])\n",
      "dict_keys(['steering_angle', 'throttle', 'speed', 'image'])\n",
      "dict_keys(['steering_angle', 'throttle', 'speed', 'image'])\n",
      "dict_keys(['steering_angle', 'throttle', 'speed', 'image'])\n",
      "dict_keys(['steering_angle', 'throttle', 'speed', 'image'])\n",
      "dict_keys(['steering_angle', 'throttle', 'speed', 'image'])\n",
      "dict_keys(['steering_angle', 'throttle', 'speed', 'image'])\n",
      "dict_keys(['steering_angle', 'throttle', 'speed', 'image'])\n",
      "dict_keys(['steering_angle', 'throttle', 'speed', 'image'])\n",
      "dict_keys(['steering_angle', 'throttle', 'speed', 'image'])\n",
      "dict_keys(['steering_angle', 'throttle', 'speed', 'image'])\n",
      "dict_keys(['steering_angle', 'throttle', 'speed', 'image'])\n",
      "dict_keys(['steering_angle', 'throttle', 'speed', 'image'])\n",
      "dict_keys(['steering_angle', 'throttle', 'speed', 'image'])\n",
      "dict_keys(['steering_angle', 'throttle', 'speed', 'image'])\n",
      "dict_keys(['steering_angle', 'throttle', 'speed', 'image'])\n",
      "dict_keys(['steering_angle', 'throttle', 'speed', 'image'])\n",
      "dict_keys(['steering_angle', 'throttle', 'speed', 'image'])\n",
      "dict_keys(['steering_angle', 'throttle', 'speed', 'image'])\n"
     ]
    },
    {
     "name": "stderr",
     "output_type": "stream",
     "text": [
      "wsgi exiting\n",
      "127.0.0.1 - - [04/Jul/2019 18:58:10] \"GET /socket.io/?EIO=4&transport=websocket HTTP/1.1\" 200 0 2.490142\n",
      "(8276) wsgi exited, is_accepting=True\n"
     ]
    }
   ],
   "source": [
    "@sio.on('telemetry')\n",
    "def telemetry(sid, data):\n",
    "    if data:\n",
    "        speed = float(data[\"speed\"])\n",
    "        image_str = data[\"image\"]\n",
    "\n",
    "        print(data.keys())\n",
    "        decoded = base64.b64decode(image_str)\n",
    "        image = Image.open(BytesIO(decoded))\n",
    "        image_array = np.asanyarray(image)\n",
    "        \n",
    "        \n",
    "        \n",
    "        steering_angle = 0.0\n",
    "        throttle = 0.0\n",
    "\n",
    "        send_control(steering_angle, throttle)\n",
    "    else:\n",
    "        sio.emit('manual', data={}, skip_sid=True)\n",
    "        \n",
    "app = socketio.Middleware(sio, app)\n",
    "eventlet.wsgi.server(eventlet.listen(('', 4567)), app)"
   ]
  },
  {
   "cell_type": "code",
   "execution_count": null,
   "metadata": {},
   "outputs": [],
   "source": []
  }
 ],
 "metadata": {
  "kernelspec": {
   "display_name": "Python 3",
   "language": "python",
   "name": "python3"
  },
  "language_info": {
   "codemirror_mode": {
    "name": "ipython",
    "version": 3
   },
   "file_extension": ".py",
   "mimetype": "text/x-python",
   "name": "python",
   "nbconvert_exporter": "python",
   "pygments_lexer": "ipython3",
   "version": "3.7.3"
  }
 },
 "nbformat": 4,
 "nbformat_minor": 2
}
