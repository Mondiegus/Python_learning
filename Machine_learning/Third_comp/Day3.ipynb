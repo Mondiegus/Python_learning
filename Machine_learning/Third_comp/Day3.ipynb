{
 "cells": [
  {
   "cell_type": "code",
   "execution_count": 1,
   "metadata": {},
   "outputs": [
    {
     "name": "stderr",
     "output_type": "stream",
     "text": [
      "Using TensorFlow backend.\n"
     ]
    }
   ],
   "source": [
    "from flask import Flask\n",
    "import eventlet.wsgi\n",
    "import eventlet\n",
    "import socketio\n",
    "import numpy as np\n",
    "import base64\n",
    "from PIL import Image\n",
    "from io import BytesIO\n",
    "from keras.models import load_model\n"
   ]
  },
  {
   "cell_type": "code",
   "execution_count": 11,
   "metadata": {},
   "outputs": [],
   "source": [
    "sio = socketio.Server()\n",
    "app = Flask(__name__)\n",
    "\n",
    "def send_control(steering_angle, throttle):\n",
    "    sio.emit(\"steer\", data = {\"steering_angle\": str(steering_angle),\n",
    "                             \"throttle\": str(throttle)}, skip_sid = True)\n",
    "\n",
    "def process_image(image):\n",
    "    return image[10:130:2, ::4, :]"
   ]
  },
  {
   "cell_type": "code",
   "execution_count": 7,
   "metadata": {},
   "outputs": [],
   "source": [
    "model = load_model('d:\\Pliki ściągnięte\\mymodel.h5')"
   ]
  },
  {
   "cell_type": "code",
   "execution_count": 14,
   "metadata": {
    "scrolled": true
   },
   "outputs": [
    {
     "name": "stderr",
     "output_type": "stream",
     "text": [
      "(15892) wsgi starting up on http://0.0.0.0:4567\n",
      "(15892) accepted ('127.0.0.1', 51370)\n",
      "(15892) accepted ('127.0.0.1', 51376)\n",
      "(15892) accepted ('127.0.0.1', 51377)\n",
      "wsgi exiting\n",
      "127.0.0.1 - - [21/Jul/2019 12:13:25] \"GET /socket.io/?EIO=4&transport=websocket HTTP/1.1\" 200 0 25.058354\n",
      "127.0.0.1 - - [21/Jul/2019 12:13:25] \"GET /socket.io/?EIO=4&transport=websocket HTTP/1.1\" 200 0 11.037497\n",
      "127.0.0.1 - - [21/Jul/2019 12:13:25] \"GET /socket.io/?EIO=4&transport=websocket HTTP/1.1\" 200 0 13.469926\n",
      "(15892) wsgi exited, is_accepting=True\n"
     ]
    }
   ],
   "source": [
    "@sio.on('telemetry')\n",
    "def telemetry(sid, data):\n",
    "    if data:\n",
    "        speed = float(data[\"speed\"])\n",
    "        image_str = data[\"image\"]\n",
    "        \n",
    "        decoded = base64.b64decode(image_str)\n",
    "        image = Image.open(BytesIO(decoded))\n",
    "        image_array = np.asarray(image)\n",
    "        \n",
    "        img = process_image(image_array)\n",
    "        img_batch = np.expand_dims(img, axis=0)\n",
    "        steering_angle = float(model.predict(img_batch))\n",
    "        \n",
    "        throttle = 0.15\n",
    "        if speed < 15:\n",
    "            throttle = 0.8\n",
    "        if speed > 17:\n",
    "            throttle = -0.1\n",
    "\n",
    "        send_control(steering_angle, throttle)\n",
    "    else:\n",
    "        sio.emit(\"manual\", data = (), skip_sid = True)\n",
    "        \n",
    "app = socketio.Middleware(sio, app)\n",
    "eventlet.wsgi.server(eventlet.listen(('',4567)), app)"
   ]
  },
  {
   "cell_type": "code",
   "execution_count": null,
   "metadata": {},
   "outputs": [],
   "source": []
  }
 ],
 "metadata": {
  "kernelspec": {
   "display_name": "Python 3",
   "language": "python",
   "name": "python3"
  },
  "language_info": {
   "codemirror_mode": {
    "name": "ipython",
    "version": 3
   },
   "file_extension": ".py",
   "mimetype": "text/x-python",
   "name": "python",
   "nbconvert_exporter": "python",
   "pygments_lexer": "ipython3",
   "version": "3.7.3"
  }
 },
 "nbformat": 4,
 "nbformat_minor": 2
}
