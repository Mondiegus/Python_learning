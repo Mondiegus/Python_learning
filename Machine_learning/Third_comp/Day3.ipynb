{
 "cells": [
  {
   "cell_type": "code",
   "execution_count": 2,
   "metadata": {},
   "outputs": [
    {
     "name": "stdout",
     "output_type": "stream",
     "text": [
      "pygame 1.9.6\n",
      "Hello from the pygame community. https://www.pygame.org/contribute.html\n"
     ]
    }
   ],
   "source": [
    "from flask import Flask\n",
    "import eventlet.wsgi\n",
    "import eventlet\n",
    "import socketio\n",
    "import numpy as np\n",
    "import base64\n",
    "from PIL import Image\n",
    "from io import BytesIO\n",
    "from tensorflow.keras.models import load_model\n",
    "import pyvjoy\n",
    "import pygame"
   ]
  },
  {
   "cell_type": "code",
   "execution_count": null,
   "metadata": {},
   "outputs": [
    {
     "name": "stdout",
     "output_type": "stream",
     "text": [
      "Joystick button pressed.\n",
      "Joystick button released.\n",
      "Joystick button pressed.\n",
      "Joystick button released.\n",
      "Joystick button pressed.\n",
      "Joystick button released.\n",
      "Joystick button pressed.\n",
      "Joystick button released.\n"
     ]
    }
   ],
   "source": [
    "# Define some colors.\n",
    "BLACK = pygame.Color('black')\n",
    "WHITE = pygame.Color('white')\n",
    "\n",
    "\n",
    "# This is a simple class that will help us print to the screen.\n",
    "# It has nothing to do with the joysticks, just outputting the\n",
    "# information.\n",
    "class TextPrint(object):\n",
    "    def __init__(self):\n",
    "        self.reset()\n",
    "        self.font = pygame.font.Font(None, 20)\n",
    "\n",
    "    def tprint(self, screen, textString):\n",
    "        textBitmap = self.font.render(textString, True, BLACK)\n",
    "        screen.blit(textBitmap, (self.x, self.y))\n",
    "        self.y += self.line_height\n",
    "\n",
    "    def reset(self):\n",
    "        self.x = 10\n",
    "        self.y = 10\n",
    "        self.line_height = 15\n",
    "\n",
    "    def indent(self):\n",
    "        self.x += 10\n",
    "\n",
    "    def unindent(self):\n",
    "        self.x -= 10\n",
    "\n",
    "\n",
    "pygame.init()\n",
    "\n",
    "# Set the width and height of the screen (width, height).\n",
    "screen = pygame.display.set_mode((500, 700))\n",
    "\n",
    "pygame.display.set_caption(\"My Game\")\n",
    "\n",
    "# Loop until the user clicks the close button.\n",
    "done = False\n",
    "\n",
    "# Used to manage how fast the screen updates.\n",
    "clock = pygame.time.Clock()\n",
    "\n",
    "# Initialize the joysticks.\n",
    "pygame.joystick.init()\n",
    "\n",
    "# Get ready to print.\n",
    "textPrint = TextPrint()\n",
    "# -------- Main Program Loop -----------\n",
    "while not done:\n",
    "    #\n",
    "    # EVENT PROCESSING STEP\n",
    "    #\n",
    "    # Possible joystick actions: JOYAXISMOTION, JOYBALLMOTION, JOYBUTTONDOWN,\n",
    "    # JOYBUTTONUP, JOYHATMOTION\n",
    "    for event in pygame.event.get(): # User did something.\n",
    "        if event.type == pygame.QUIT: # If user clicked close.\n",
    "            done = True # Flag that we are done so we exit this loop.\n",
    "        elif event.type == pygame.JOYBUTTONDOWN:\n",
    "            print(\"Joystick button pressed.\")\n",
    "        elif event.type == pygame.JOYBUTTONUP:\n",
    "            print(\"Joystick button released.\")\n",
    "\n",
    "    #\n",
    "    # DRAWING STEP\n",
    "    #\n",
    "    # First, clear the screen to white. Don't put other drawing commands\n",
    "    # above this, or they will be erased with this command.\n",
    "    screen.fill(WHITE)\n",
    "    textPrint.reset()\n",
    "\n",
    "    # Get count of joysticks.\n",
    "    joystick_count = pygame.joystick.get_count()\n",
    "\n",
    "    textPrint.tprint(screen, \"Number of joysticks: {}\".format(joystick_count))\n",
    "    textPrint.indent()\n",
    "\n",
    "    # For each joystick:\n",
    "    for i in range(joystick_count):\n",
    "        joystick = pygame.joystick.Joystick(i)\n",
    "        joystick.init()\n",
    "\n",
    "        textPrint.tprint(screen, \"Joystick {}\".format(i))\n",
    "        textPrint.indent()\n",
    "\n",
    "        # Get the name from the OS for the controller/joystick.\n",
    "        name = joystick.get_name()\n",
    "        textPrint.tprint(screen, \"Joystick name: {}\".format(name))\n",
    "\n",
    "        # Usually axis run in pairs, up/down for one, and left/right for\n",
    "        # the other.\n",
    "        axes = joystick.get_numaxes()\n",
    "        textPrint.tprint(screen, \"Number of axes: {}\".format(axes))\n",
    "        textPrint.indent()\n",
    "\n",
    "        for i in range(axes):\n",
    "            axis = joystick.get_axis(i)\n",
    "            textPrint.tprint(screen, \"Axis {} value: {:>6.3f}\".format(i, axis))\n",
    "        textPrint.unindent()\n",
    "\n",
    "        buttons = joystick.get_numbuttons()\n",
    "        textPrint.tprint(screen, \"Number of buttons: {}\".format(buttons))\n",
    "        textPrint.indent()\n",
    "\n",
    "        for i in range(buttons):\n",
    "            button = joystick.get_button(i)\n",
    "            textPrint.tprint(screen,\n",
    "                             \"Button {:>2} value: {}\".format(i, button))\n",
    "        textPrint.unindent()\n",
    "\n",
    "        hats = joystick.get_numhats()\n",
    "        textPrint.tprint(screen, \"Number of hats: {}\".format(hats))\n",
    "        textPrint.indent()\n",
    "\n",
    "        # Hat position. All or nothing for direction, not a float like\n",
    "        # get_axis(). Position is a tuple of int values (x, y).\n",
    "        for i in range(hats):\n",
    "            hat = joystick.get_hat(i)\n",
    "            textPrint.tprint(screen, \"Hat {} value: {}\".format(i, str(hat)))\n",
    "        textPrint.unindent()\n",
    "\n",
    "        textPrint.unindent()\n",
    "\n",
    "    #\n",
    "    # ALL CODE TO DRAW SHOULD GO ABOVE THIS COMMENT\n",
    "    #\n",
    "\n",
    "    # Go ahead and update the screen with what we've drawn.\n",
    "    pygame.display.flip()\n",
    "\n",
    "    # Limit to 20 frames per second.\n",
    "    clock.tick(20)\n",
    "\n",
    "# Close the window and quit.\n",
    "# If you forget this line, the program will 'hang'\n",
    "# on exit if running from IDLE.\n",
    "pygame.quit()"
   ]
  },
  {
   "cell_type": "code",
   "execution_count": 2,
   "metadata": {},
   "outputs": [],
   "source": [
    "sio = socketio.Server()\n",
    "app = Flask(__name__)\n",
    "\n",
    "def send_control(steering_angle, throttle):\n",
    "    sio.emit(\"steer\", data = {\"steering_angle\": str(steering_angle),\n",
    "                             \"throttle\": str(throttle)}, skip_sid = True)\n",
    "\n",
    "def process_image(image):\n",
    "    return image[10:130:2, ::4, :]"
   ]
  },
  {
   "cell_type": "code",
   "execution_count": 3,
   "metadata": {},
   "outputs": [],
   "source": [
    "model = load_model('f:\\Pliki ściągnięte\\mymodel1 (1).h5')"
   ]
  },
  {
   "cell_type": "code",
   "execution_count": null,
   "metadata": {},
   "outputs": [
    {
     "name": "stderr",
     "output_type": "stream",
     "text": [
      "(8084) wsgi starting up on http://0.0.0.0:4567\n",
      "(8084) accepted ('127.0.0.1', 59159)\n",
      "127.0.0.1 - - [28/Jan/2020 21:05:27] \"GET /socket.io/?EIO=4&transport=websocket HTTP/1.1\" 200 0 116.833108\n"
     ]
    }
   ],
   "source": [
    "@sio.on('telemetry')\n",
    "def telemetry(sid, data):\n",
    "    if data:\n",
    "        speed = float(data[\"speed\"])\n",
    "        image_str = data[\"image\"]\n",
    "        \n",
    "        decoded = base64.b64decode(image_str)\n",
    "        image = Image.open(BytesIO(decoded))\n",
    "        image_array = np.asarray(image)\n",
    "#         print(image_array.shape)\n",
    "        img = process_image(image_array)\n",
    "#         print(img.shape)\n",
    "        img_batch = np.expand_dims(img, axis=0)\n",
    "#         print(img_batch.shape)\n",
    "\n",
    "        steering_angle = model.predict(img_batch)\n",
    "        throttle = 0.3\n",
    "        if speed < 18:\n",
    "            throttle = 0.8\n",
    "        if speed > 21:\n",
    "            throttle = -0.1\n",
    "\n",
    "        send_control(steering_angle[0][0], throttle)\n",
    "    else:\n",
    "        sio.emit(\"manual\", data = (), skip_sid = True)\n",
    "        \n",
    "app = socketio.Middleware(sio, app)\n",
    "eventlet.wsgi.server(eventlet.listen(('',4567)), app)"
   ]
  },
  {
   "cell_type": "code",
   "execution_count": 2,
   "metadata": {},
   "outputs": [],
   "source": [
    "MAX_VJOY = 32767\n",
    "NEUTRAL_VJOY = MAX_VJOY/2\n",
    "j = pyvjoy.VJoyDevice(1)\n",
    "\n",
    "def play_function(X,Y,Z,XRot):\n",
    "    j.data.wAxisX = int(X * self.MAX_VJOY)\n",
    "    j.data.wAxisY = int(Y * self.MAX_VJOY)\n",
    "    j.data.wAxisZ = int(Z * self.MAX_VJOY)\n",
    "    j.data.wAxisXRot = int(XRot * self.MAX_VJOY)\n",
    "    j.update()\n",
    "    "
   ]
  },
  {
   "cell_type": "code",
   "execution_count": null,
   "metadata": {},
   "outputs": [],
   "source": [
    "j."
   ]
  },
  {
   "cell_type": "code",
   "execution_count": 113,
   "metadata": {},
   "outputs": [
    {
     "data": {
      "text/plain": [
       "1"
      ]
     },
     "execution_count": 113,
     "metadata": {},
     "output_type": "execute_result"
    }
   ],
   "source": [
    "MAX_VJOY = 32767\n",
    "NEUTRAL_VJOY = int(MAX_VJOY/2)\n",
    "j = pyvjoy.VJoyDevice(1)\n",
    "j.set_button(1,1)\n",
    "j.set_button(1,0)\n",
    "# j.set_axis(pyvjoy.HID_USAGE_X, MAX_VJOY)\n",
    "# j.set_axis(pyvjoy.HID_USAGE_X, 32767)\n",
    "\n",
    "j.data.wAxisX = NEUTRAL_VJOY \n",
    "j.data.wAxisY= MAX_VJOY\n",
    "\n",
    "j.data.wAxisXRot = MAX_VJOY \n",
    "j.data.wAxisYRot = NEUTRAL_VJOY \n",
    "j.update()"
   ]
  }
 ],
 "metadata": {
  "kernelspec": {
   "display_name": "Python 3",
   "language": "python",
   "name": "python3"
  },
  "language_info": {
   "codemirror_mode": {
    "name": "ipython",
    "version": 3
   },
   "file_extension": ".py",
   "mimetype": "text/x-python",
   "name": "python",
   "nbconvert_exporter": "python",
   "pygments_lexer": "ipython3",
   "version": "3.7.4"
  }
 },
 "nbformat": 4,
 "nbformat_minor": 2
}
