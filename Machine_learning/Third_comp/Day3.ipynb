{
 "cells": [
  {
   "cell_type": "code",
   "execution_count": 17,
   "metadata": {},
   "outputs": [],
   "source": [
    "from flask import Flask\n",
    "import eventlet.wsgi\n",
    "import eventlet\n",
    "import socketio\n",
    "import numpy as np\n",
    "import base64\n",
    "from PIL import Image\n",
    "from io import BytesIO\n",
    "from tensorflow.keras.models import load_model\n",
    "import pyvjoy"
   ]
  },
  {
   "cell_type": "code",
   "execution_count": 3,
   "metadata": {},
   "outputs": [],
   "source": [
    "sio = socketio.Server()\n",
    "app = Flask(__name__)\n",
    "\n",
    "def send_control(steering_angle, throttle):\n",
    "    sio.emit(\"steer\", data = {\"steering_angle\": str(steering_angle),\n",
    "                             \"throttle\": str(throttle)}, skip_sid = True)\n",
    "\n",
    "def process_image(image):\n",
    "    return image[10:130:2, ::4, :]"
   ]
  },
  {
   "cell_type": "code",
   "execution_count": 3,
   "metadata": {},
   "outputs": [],
   "source": [
    "model = load_model('f:\\Pliki ściągnięte\\mymodel1 (1).h5')"
   ]
  },
  {
   "cell_type": "code",
   "execution_count": null,
   "metadata": {},
   "outputs": [
    {
     "name": "stderr",
     "output_type": "stream",
     "text": [
      "(18408) wsgi starting up on http://0.0.0.0:4567\n",
      "(18408) accepted ('127.0.0.1', 62100)\n",
      "(18408) accepted ('127.0.0.1', 62102)\n",
      "127.0.0.1 - - [23/Jan/2020 22:54:27] \"GET /socket.io/?EIO=4&transport=websocket HTTP/1.1\" 200 0 124.542634\n",
      "127.0.0.1 - - [23/Jan/2020 22:56:26] \"GET /socket.io/?EIO=4&transport=websocket HTTP/1.1\" 200 0 175.554998\n"
     ]
    }
   ],
   "source": [
    "@sio.on('telemetry')\n",
    "def telemetry(sid, data):\n",
    "    if data:\n",
    "        speed = float(data[\"speed\"])\n",
    "        image_str = data[\"image\"]\n",
    "        \n",
    "        decoded = base64.b64decode(image_str)\n",
    "        image = Image.open(BytesIO(decoded))\n",
    "        image_array = np.asarray(image)\n",
    "#         print(image_array.shape)\n",
    "        img = process_image(image_array)\n",
    "#         print(img.shape)\n",
    "        img_batch = np.expand_dims(img, axis=0)\n",
    "#         print(img_batch.shape)\n",
    "\n",
    "        steering_angle = model.predict(img_batch)\n",
    "        throttle = 0.15\n",
    "        if speed < 15:\n",
    "            throttle = 0.8\n",
    "        if speed > 17:\n",
    "            throttle = -0.1\n",
    "\n",
    "        send_control(steering_angle[0][0], throttle)\n",
    "    else:\n",
    "        sio.emit(\"manual\", data = (), skip_sid = True)\n",
    "        \n",
    "app = socketio.Middleware(sio, app)\n",
    "eventlet.wsgi.server(eventlet.listen(('',4567)), app)"
   ]
  },
  {
   "cell_type": "code",
   "execution_count": 72,
   "metadata": {},
   "outputs": [],
   "source": [
    "MAX_VJOY = 32767\n",
    "NEUTRAL_VJOY = MAX_VJOY/2\n",
    "j = pyvjoy.VJoyDevice(1)\n",
    "\n",
    "def play_function(X,Y,Z,XRot):\n",
    "    j.data.wAxisX = int(X * self.MAX_VJOY)\n",
    "    j.data.wAxisY = int(Y * self.MAX_VJOY)\n",
    "    j.data.wAxisZ = int(Z * self.MAX_VJOY)\n",
    "    j.data.wAxisXRot = int(XRot * self.MAX_VJOY)\n",
    "    j.update()\n",
    "    "
   ]
  },
  {
   "cell_type": "code",
   "execution_count": 113,
   "metadata": {},
   "outputs": [
    {
     "data": {
      "text/plain": [
       "1"
      ]
     },
     "execution_count": 113,
     "metadata": {},
     "output_type": "execute_result"
    }
   ],
   "source": [
    "MAX_VJOY = 32767\n",
    "NEUTRAL_VJOY = int(MAX_VJOY/2)\n",
    "j = pyvjoy.VJoyDevice(1)\n",
    "j.set_button(1,1)\n",
    "j.set_button(1,0)\n",
    "# j.set_axis(pyvjoy.HID_USAGE_X, MAX_VJOY)\n",
    "# j.set_axis(pyvjoy.HID_USAGE_X, 32767)\n",
    "\n",
    "j.data.wAxisX = NEUTRAL_VJOY \n",
    "j.data.wAxisY= MAX_VJOY\n",
    "\n",
    "j.data.wAxisXRot = MAX_VJOY \n",
    "j.data.wAxisYRot = NEUTRAL_VJOY \n",
    "j.update()"
   ]
  }
 ],
 "metadata": {
  "kernelspec": {
   "display_name": "Python 3",
   "language": "python",
   "name": "python3"
  },
  "language_info": {
   "codemirror_mode": {
    "name": "ipython",
    "version": 3
   },
   "file_extension": ".py",
   "mimetype": "text/x-python",
   "name": "python",
   "nbconvert_exporter": "python",
   "pygments_lexer": "ipython3",
   "version": "3.7.4"
  }
 },
 "nbformat": 4,
 "nbformat_minor": 2
}
