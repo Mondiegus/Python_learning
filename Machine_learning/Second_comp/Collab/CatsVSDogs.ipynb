{
  "nbformat": 4,
  "nbformat_minor": 0,
  "metadata": {
    "colab": {
      "name": "CatsVSDogs.ipynb",
      "provenance": [],
      "collapsed_sections": []
    },
    "kernelspec": {
      "name": "python3",
      "display_name": "Python 3"
    },
    "accelerator": "GPU"
  },
  "cells": [
    {
      "cell_type": "code",
      "metadata": {
        "id": "qDOu_zxHa6Vq",
        "colab_type": "code",
        "colab": {}
      },
      "source": [
        "from keras.models import Sequential\n",
        "from keras.layers import Dense, Flatten, Conv2D, MaxPool2D, Dropout\n",
        "from tensorflow.python.keras.preprocessing.image import ImageDataGenerator\n",
        "\n",
        "import os\n",
        "import zlib\n",
        "import zipfile\n",
        "\n",
        "import matplotlib.pylab as plt\n",
        "import matplotlib.image as mpimage\n",
        "%matplotlib inline"
      ],
      "execution_count": 0,
      "outputs": []
    },
    {
      "cell_type": "code",
      "metadata": {
        "id": "36EkZERlbc6G",
        "colab_type": "code",
        "outputId": "d9f8c2c1-591c-471a-ecf6-3d1396bd6a82",
        "colab": {
          "base_uri": "https://localhost:8080/",
          "height": 204
        }
      },
      "source": [
        "!wget --no-check-certificate \\\n",
        "  https://storage.googleapis.com/mledu-datasets/cats_and_dogs_filtered.zip \\\n",
        "  -O /tmp/cats_and_dogs_filtered.zip\n",
        "  "
      ],
      "execution_count": 0,
      "outputs": [
        {
          "output_type": "stream",
          "text": [
            "--2019-07-04 15:24:36--  https://storage.googleapis.com/mledu-datasets/cats_and_dogs_filtered.zip\n",
            "Resolving storage.googleapis.com (storage.googleapis.com)... 74.125.195.128, 2607:f8b0:400e:c08::80\n",
            "Connecting to storage.googleapis.com (storage.googleapis.com)|74.125.195.128|:443... connected.\n",
            "HTTP request sent, awaiting response... 200 OK\n",
            "Length: 68606236 (65M) [application/zip]\n",
            "Saving to: ‘/tmp/cats_and_dogs_filtered.zip’\n",
            "\n",
            "/tmp/cats_and_dogs_ 100%[===================>]  65.43M   146MB/s    in 0.4s    \n",
            "\n",
            "2019-07-04 15:24:37 (146 MB/s) - ‘/tmp/cats_and_dogs_filtered.zip’ saved [68606236/68606236]\n",
            "\n"
          ],
          "name": "stdout"
        }
      ]
    },
    {
      "cell_type": "code",
      "metadata": {
        "id": "odyz09ZQcjLk",
        "colab_type": "code",
        "colab": {}
      },
      "source": [
        "local_zip = '/tmp/cats_and_dogs_filtered.zip'\n",
        "zip_ = zipfile.ZipFile(local_zip)\n",
        "zip_.extractall('/tmp/catc_and_dogs_filtered')\n",
        "zip_.close()"
      ],
      "execution_count": 0,
      "outputs": []
    },
    {
      "cell_type": "code",
      "metadata": {
        "id": "Z0p_WX_hdUGJ",
        "colab_type": "code",
        "colab": {}
      },
      "source": [
        "base_dir = '/tmp/catc_and_dogs_filtered/cats_and_dogs_filtered'\n",
        "\n",
        "train_dir = os.path.join(base_dir, 'train')\n",
        "validation_dir = os.path.join(base_dir, 'validation')\n",
        "\n",
        "train_cats_dir = os.path.join(train_dir, 'cats')\n",
        "validation_cats_dir = os.path.join(validation_dir, 'cats')\n",
        "\n",
        "train_dogs_dir = os.path.join(train_dir, 'dogs')\n",
        "validation_dogs_dir = os.path.join(validation_dir, 'dogs')\n",
        "\n"
      ],
      "execution_count": 0,
      "outputs": []
    },
    {
      "cell_type": "code",
      "metadata": {
        "id": "xsgZHmRJhsAV",
        "colab_type": "code",
        "colab": {}
      },
      "source": [
        "def plot_images(item_dir, top = 25):\n",
        "  all_items_dirs = os.listdir(item_dir)\n",
        "  item_files = [os.path.join(item_dir,file) for file in all_items_dirs][:top]\n",
        "\n",
        "  plt.figure(figsize =(10,10))\n",
        "  for idx, img_path in enumerate(item_files):\n",
        "    plt.subplot(5, 5, idx+1)\n",
        "\n",
        "    img = mpimage.imread(img_path)\n",
        "    plt.imshow(img)\n",
        "\n",
        "  plt.plt.tight_layout()\n",
        "  "
      ],
      "execution_count": 0,
      "outputs": []
    },
    {
      "cell_type": "code",
      "metadata": {
        "id": "t-R3kWQveELJ",
        "colab_type": "code",
        "colab": {}
      },
      "source": [
        "#plot_images(train_dogs_dir)"
      ],
      "execution_count": 0,
      "outputs": []
    },
    {
      "cell_type": "code",
      "metadata": {
        "id": "GiUzakBcfIzX",
        "colab_type": "code",
        "outputId": "9186b0ba-56d2-485d-b24d-083b47d6bcbb",
        "colab": {
          "base_uri": "https://localhost:8080/",
          "height": 476
        }
      },
      "source": [
        "input_shape = (150,150,3)\n",
        "\n",
        "model = Sequential([\n",
        "    Conv2D(32, (3,3), input_shape=input_shape),\n",
        "    MaxPool2D((2,2)),\n",
        "    \n",
        "    Conv2D(64, (3,3), activation = 'relu'),\n",
        "    MaxPool2D((2,2)),\n",
        "    \n",
        "    Conv2D(64, (3,3), activation = 'relu'),\n",
        "    MaxPool2D((2,2)),\n",
        "\n",
        "    Flatten(),\n",
        "    \n",
        "    Dense(64, activation = 'relu'),\n",
        "    Dropout(0.5),\n",
        "    Dense(1, activation = 'sigmoid')\n",
        "\n",
        "])\n",
        "\n",
        "model.compile(loss='binary_crossentropy', optimizer='adam', metrics=['accuracy'])\n",
        "model.summary()"
      ],
      "execution_count": 0,
      "outputs": [
        {
          "output_type": "stream",
          "text": [
            "_________________________________________________________________\n",
            "Layer (type)                 Output Shape              Param #   \n",
            "=================================================================\n",
            "conv2d_4 (Conv2D)            (None, 148, 148, 32)      896       \n",
            "_________________________________________________________________\n",
            "max_pooling2d_4 (MaxPooling2 (None, 74, 74, 32)        0         \n",
            "_________________________________________________________________\n",
            "conv2d_5 (Conv2D)            (None, 72, 72, 64)        18496     \n",
            "_________________________________________________________________\n",
            "max_pooling2d_5 (MaxPooling2 (None, 36, 36, 64)        0         \n",
            "_________________________________________________________________\n",
            "conv2d_6 (Conv2D)            (None, 34, 34, 64)        36928     \n",
            "_________________________________________________________________\n",
            "max_pooling2d_6 (MaxPooling2 (None, 17, 17, 64)        0         \n",
            "_________________________________________________________________\n",
            "flatten_2 (Flatten)          (None, 18496)             0         \n",
            "_________________________________________________________________\n",
            "dense_3 (Dense)              (None, 64)                1183808   \n",
            "_________________________________________________________________\n",
            "dropout_2 (Dropout)          (None, 64)                0         \n",
            "_________________________________________________________________\n",
            "dense_4 (Dense)              (None, 1)                 65        \n",
            "=================================================================\n",
            "Total params: 1,240,193\n",
            "Trainable params: 1,240,193\n",
            "Non-trainable params: 0\n",
            "_________________________________________________________________\n"
          ],
          "name": "stdout"
        }
      ]
    },
    {
      "cell_type": "code",
      "metadata": {
        "id": "xxWYJpi0gQoW",
        "colab_type": "code",
        "outputId": "ae28a29c-2fc6-4490-dc0d-1a82a8478800",
        "colab": {
          "base_uri": "https://localhost:8080/",
          "height": 51
        }
      },
      "source": [
        "train_datagen = ImageDataGenerator(rescale = 1./255)\n",
        "test_datagen = ImageDataGenerator(rescale = 1./255)\n",
        "\n",
        "train_generator = train_datagen.flow_from_directory(\n",
        "  train_dir,\n",
        "  target_size = (150, 150),\n",
        "  batch_size = 20,\n",
        "  class_mode = 'binary'\n",
        ")\n",
        "\n",
        "validation_generator = train_datagen.flow_from_directory(\n",
        "  validation_dir,\n",
        "  target_size = (150, 150),\n",
        "  batch_size = 20,\n",
        "  class_mode = 'binary'\n",
        ")"
      ],
      "execution_count": 0,
      "outputs": [
        {
          "output_type": "stream",
          "text": [
            "Found 2000 images belonging to 2 classes.\n",
            "Found 1000 images belonging to 2 classes.\n"
          ],
          "name": "stdout"
        }
      ]
    },
    {
      "cell_type": "code",
      "metadata": {
        "id": "L4XvI_pjkzcv",
        "colab_type": "code",
        "outputId": "af6375db-2b42-4692-ca93-636847502367",
        "colab": {
          "base_uri": "https://localhost:8080/",
          "height": 187
        }
      },
      "source": [
        "history = model.fit_generator(\n",
        "  train_generator,\n",
        "  steps_per_epoch = 100,\n",
        "  epochs = 5,\n",
        "  validation_data = validation_generator,\n",
        "  validation_steps = 50,\n",
        "  verbose = 2\n",
        ")"
      ],
      "execution_count": 0,
      "outputs": [
        {
          "output_type": "stream",
          "text": [
            "Epoch 1/5\n",
            " - 14s - loss: 0.7057 - acc: 0.5130 - val_loss: 0.6923 - val_acc: 0.5030\n",
            "Epoch 2/5\n",
            " - 7s - loss: 0.6930 - acc: 0.5385 - val_loss: 0.6905 - val_acc: 0.5100\n",
            "Epoch 3/5\n",
            " - 7s - loss: 0.6911 - acc: 0.5225 - val_loss: 0.6893 - val_acc: 0.5360\n",
            "Epoch 4/5\n",
            " - 7s - loss: 0.6710 - acc: 0.5985 - val_loss: 0.6490 - val_acc: 0.6340\n",
            "Epoch 5/5\n",
            " - 8s - loss: 0.6484 - acc: 0.6185 - val_loss: 0.6781 - val_acc: 0.5990\n"
          ],
          "name": "stdout"
        }
      ]
    }
  ]
}